{
 "cells": [
  {
   "cell_type": "markdown",
   "metadata": {},
   "source": [
    "## NC DEQ Drinking Water Watch Scraper\n",
    "_by Byron Rice, 12/6/2019_\n",
    "\n",
    "retrieves DWW non-coliform samples page"
   ]
  },
  {
   "cell_type": "code",
   "execution_count": 1,
   "metadata": {},
   "outputs": [],
   "source": [
    "import pandas as pd\n",
    "from requests_html import HTMLSession\n",
    "from bs4 import BeautifulSoup\n",
    "import requests\n",
    "import lxml.html as LH\n",
    "from pathlib import Path"
   ]
  },
  {
   "cell_type": "code",
   "execution_count": 2,
   "metadata": {},
   "outputs": [],
   "source": [
    "def df_row_to_dict(row, metadata):\n",
    "\n",
    "    tidy_row = {'Water System No.':metadata.iloc[0,1],\n",
    "                     'Water System Name':metadata.iloc[1,1],\n",
    "                     'Lab Sample No.':metadata.iloc[2,1],\n",
    "                     'Federal Type':metadata.iloc[0,3],\n",
    "                     'Principal County Served':metadata.iloc[1,3],\n",
    "                     'Collection Date':metadata.iloc[2,3],\n",
    "                     'Analyte Code':row[1],\n",
    "                     'Analyte Name':row[2],\n",
    "                     'Method Code':row[3],\n",
    "                     'Less than Indicator':row[4],\n",
    "                     'Level Type':row[5],\n",
    "                     'Reporting Level':row[6],\n",
    "                     'Concentration level':row[7],\n",
    "                     'Monitoring Period Begin Date':row[8],\n",
    "                     'Monitoring Period End Date':row[9]}\n",
    "    return tidy_row\n",
    "    "
   ]
  },
  {
   "cell_type": "code",
   "execution_count": 3,
   "metadata": {},
   "outputs": [],
   "source": [
    "def put_in_single_rows(df_list):\n",
    "    data = df_list[1]\n",
    "    data.rename(columns=data.iloc[0], inplace = True)\n",
    "    data.drop(index=0, inplace = True)\n",
    "\n",
    "    metadata = df_list[0]\n",
    "    export = []\n",
    "\n",
    "    for row in data.itertuples():\n",
    "        dict = df_row_to_dict(row, metadata)\n",
    "        export.append(dict)\n",
    "\n",
    "    return export\n",
    "    \n",
    "    "
   ]
  },
  {
   "cell_type": "code",
   "execution_count": 4,
   "metadata": {},
   "outputs": [],
   "source": [
    "def return_tables(soup):\n",
    "    export_tables = []\n",
    "    tables = soup.findAll(\"table\")\n",
    "    for table in tables:\n",
    "        records = []\n",
    "        for tr in table.findAll(\"tr\"):\n",
    "            trs = tr.findAll(\"td\")\n",
    "            record = []\n",
    "            for i in range(len(trs)):\n",
    "                record.append(trs[i].text)\n",
    "            records.append(record)\n",
    "        df = pd.DataFrame(data=records)\n",
    "        export_tables.append(df)\n",
    "        \n",
    "    return export_tables[2:4]"
   ]
  },
  {
   "cell_type": "code",
   "execution_count": 5,
   "metadata": {},
   "outputs": [],
   "source": [
    "def open_links(page):\n",
    "    session = HTMLSession()\n",
    "    r = session.get(page)\n",
    "    \n",
    "    links = pd.DataFrame(r.html.absolute_links, columns = {'links'}) # returns list of links on page\n",
    "    links.set_index(links['links'], inplace = True)\n",
    "    links.drop(['https://www.pwss.enr.state.nc.us/NCDWW2/index.jsp',\n",
    "                'https://www.pwss.enr.state.nc.us/NCDWW2/Maps/Map_Template.jsp',\n",
    "                'http://www.ncwater.org/?page=9'], \n",
    "               inplace = True, axis = 0)\n",
    "    \n",
    "    html = links['links'].apply(requests.get) # opens links\n",
    "    htmldf = pd.DataFrame(html)\n",
    "    htmldf.rename(columns = {'links':'response'}, inplace = True)\n",
    "\n",
    "    export_df = pd.DataFrame()\n",
    "    \n",
    "    for row in htmldf.itertuples():\n",
    "        soup = BeautifulSoup(row[1].text, 'html.parser') # parses html of webpage\n",
    "        df_list = return_tables(soup)\n",
    "        if len(df_list) == 2:\n",
    "            list_rows = put_in_single_rows(df_list)\n",
    "            for item in list_rows:\n",
    "                export_df = export_df.append(item, ignore_index = True)\n",
    "        else:\n",
    "            export_df = pd.DataFrame()\n",
    "            print(\"no table exists at \" + str(row))\n",
    "    return export_df\n",
    "    "
   ]
  },
  {
   "cell_type": "code",
   "execution_count": 6,
   "metadata": {},
   "outputs": [],
   "source": [
    "counties = pd.read_csv('counties_list.csv')\n",
    "counties_list = []\n",
    "for county in counties['0']:\n",
    "    x = str(county)\n",
    "    counties_list.append(x)"
   ]
  },
  {
   "cell_type": "code",
   "execution_count": 7,
   "metadata": {},
   "outputs": [],
   "source": [
    "def run_script():\n",
    "    for i, county in enumerate(counties_list):\n",
    "        for year in range(2010, 2016):\n",
    "            fn = f'{county}-{year}.pkl'\n",
    "            print(f'Running county {i+1} of {len(counties_list)}: {county}')\n",
    "            if not Path(fn).exists():\n",
    "                url = f'https://www.pwss.enr.state.nc.us/NCDWW2/JSP/SearchDispatch?number=&name=&companyname=&WaterSystemStatusCode=A&county={county}&WaterSystemType=All&SourceWaterType=All&PointOfContactType=None&SampleType=NonTCRAll&stateclassificationcode=All&begin_date=1%2F1%2F{year}&end_date=1%2F2%2F{year+1}&action1=Search+For+Samples'\n",
    "                page_df = open_links(url)\n",
    "                page_df.to_pickle(fn)"
   ]
  },
  {
   "cell_type": "code",
   "execution_count": null,
   "metadata": {},
   "outputs": [
    {
     "name": "stderr",
     "output_type": "stream",
     "text": [
      "2020-02-21 12:45:52,600: WARNING: __main__: Starting to do stuff...\n"
     ]
    },
    {
     "name": "stdout",
     "output_type": "stream",
     "text": [
      "Running county 1 of 100: ALAMANCE\n",
      "Running county 1 of 100: ALAMANCE\n",
      "Running county 1 of 100: ALAMANCE\n",
      "Running county 1 of 100: ALAMANCE\n",
      "Running county 1 of 100: ALAMANCE\n",
      "Running county 1 of 100: ALAMANCE\n",
      "Running county 2 of 100: ALEXANDER\n",
      "Running county 2 of 100: ALEXANDER\n",
      "Running county 2 of 100: ALEXANDER\n",
      "Running county 2 of 100: ALEXANDER\n",
      "Running county 2 of 100: ALEXANDER\n",
      "Running county 2 of 100: ALEXANDER\n",
      "Running county 3 of 100: ALLEGHANY\n",
      "Running county 3 of 100: ALLEGHANY\n",
      "Running county 3 of 100: ALLEGHANY\n",
      "Running county 3 of 100: ALLEGHANY\n",
      "Running county 3 of 100: ALLEGHANY\n",
      "Running county 3 of 100: ALLEGHANY\n",
      "Running county 4 of 100: ANSON\n",
      "Running county 4 of 100: ANSON\n",
      "Running county 4 of 100: ANSON\n",
      "Running county 4 of 100: ANSON\n",
      "Running county 4 of 100: ANSON\n",
      "Running county 4 of 100: ANSON\n",
      "Running county 5 of 100: ASHE\n"
     ]
    }
   ],
   "source": [
    "import logging\n",
    "\n",
    "def main():\n",
    "    # get the logger based on the filename; this tells you where the log is coming from\n",
    "    logger = logging.getLogger(__name__)\n",
    "    logger.warning(\"Starting to do stuff...\")\n",
    "    run_script()\n",
    "    logger.info(\"Stuff done!\")\n",
    "\n",
    "\n",
    "if __name__ == \"__main__\":\n",
    "    # you setup configuration at the main entrypoint to the code\n",
    "    logging.basicConfig(\n",
    "        level=logging.INFO,\n",
    "        format=\"%(asctime)s: %(levelname)s: %(name)s: %(message)s\",\n",
    "        handlers=[logging.FileHandler(\"my-log.log\"), logging.StreamHandler()],\n",
    "    )\n",
    "    main()\n",
    "\n"
   ]
  },
  {
   "cell_type": "code",
   "execution_count": null,
   "metadata": {},
   "outputs": [],
   "source": []
  }
 ],
 "metadata": {
  "kernelspec": {
   "display_name": "Python 3",
   "language": "python",
   "name": "python3"
  },
  "language_info": {
   "codemirror_mode": {
    "name": "ipython",
    "version": 3
   },
   "file_extension": ".py",
   "mimetype": "text/x-python",
   "name": "python",
   "nbconvert_exporter": "python",
   "pygments_lexer": "ipython3",
   "version": "3.7.3"
  }
 },
 "nbformat": 4,
 "nbformat_minor": 2
}
